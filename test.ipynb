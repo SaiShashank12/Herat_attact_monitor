{
 "cells": [
  {
   "cell_type": "code",
   "execution_count": 3,
   "metadata": {},
   "outputs": [],
   "source": [
    "import pandas as pd\n",
    "import pickle "
   ]
  },
  {
   "cell_type": "code",
   "execution_count": 5,
   "metadata": {},
   "outputs": [],
   "source": [
    "pickle_in = open(\"classifier.pkl\",\"rb\")\n",
    "classifier=pickle.load(pickle_in)\n"
   ]
  },
  {
   "cell_type": "code",
   "execution_count": 7,
   "metadata": {},
   "outputs": [
    {
     "name": "stdout",
     "output_type": "stream",
     "text": [
      "   age  sex  cp  trtbps  chol  fbs  restecg  thalachh  exng  oldpeak  slp  \\\n",
      "0   63    1   3     145   233    1        0       150     0      2.3    0   \n",
      "1   37    1   2     130   250    0        1       187     0      3.5    0   \n",
      "2   41    0   1     130   204    0        0       172     0      1.4    2   \n",
      "3   56    1   1     120   236    0        1       178     0      0.8    2   \n",
      "4   57    0   0     120   354    0        1       163     1      0.6    2   \n",
      "\n",
      "   caa  thall  \n",
      "0    0      1  \n",
      "1    0      2  \n",
      "2    0      2  \n",
      "3    0      2  \n",
      "4    0      2  \n"
     ]
    }
   ],
   "source": [
    "df_test = pd.read_csv('test1.csv')\n",
    "print(df_test.head())\n",
    "prediction=classifier.predict(df_test)"
   ]
  },
  {
   "cell_type": "code",
   "execution_count": 3,
   "metadata": {},
   "outputs": [
    {
     "name": "stdout",
     "output_type": "stream",
     "text": [
      "Requirement already satisfied: flasgger in c:\\users\\user\\anaconda3\\lib\\site-packages (0.9.5)\n",
      "Requirement already satisfied: jsonschema>=3.0.1 in c:\\users\\user\\anaconda3\\lib\\site-packages (from flasgger) (3.2.0)\n",
      "Requirement already satisfied: Flask>=0.10 in c:\\users\\user\\anaconda3\\lib\\site-packages (from flasgger) (1.1.1)\n",
      "Requirement already satisfied: mistune in c:\\users\\user\\anaconda3\\lib\\site-packages (from flasgger) (0.8.4)\n",
      "Requirement already satisfied: six>=1.10.0 in c:\\users\\user\\anaconda3\\lib\\site-packages (from flasgger) (1.15.0)\n",
      "Requirement already satisfied: PyYAML>=3.0 in c:\\users\\user\\anaconda3\\lib\\site-packages (from flasgger) (5.1.2)\n",
      "Requirement already satisfied: Jinja2>=2.10.1 in c:\\users\\user\\anaconda3\\lib\\site-packages (from Flask>=0.10->flasgger) (2.10.3)\n",
      "Requirement already satisfied: Werkzeug>=0.15 in c:\\users\\user\\anaconda3\\lib\\site-packages (from Flask>=0.10->flasgger) (0.16.0)\n",
      "Requirement already satisfied: click>=5.1 in c:\\users\\user\\anaconda3\\lib\\site-packages (from Flask>=0.10->flasgger) (7.0)\n",
      "Requirement already satisfied: itsdangerous>=0.24 in c:\\users\\user\\anaconda3\\lib\\site-packages (from Flask>=0.10->flasgger) (1.1.0)\n",
      "Requirement already satisfied: MarkupSafe>=0.23 in c:\\users\\user\\anaconda3\\lib\\site-packages (from Jinja2>=2.10.1->Flask>=0.10->flasgger) (1.1.1)\n",
      "Requirement already satisfied: attrs>=17.4.0 in c:\\users\\user\\anaconda3\\lib\\site-packages (from jsonschema>=3.0.1->flasgger) (19.2.0)\n",
      "Requirement already satisfied: setuptools in c:\\users\\user\\anaconda3\\lib\\site-packages (from jsonschema>=3.0.1->flasgger) (41.4.0)\n",
      "Requirement already satisfied: pyrsistent>=0.14.0 in c:\\users\\user\\anaconda3\\lib\\site-packages (from jsonschema>=3.0.1->flasgger) (0.17.3)\n",
      "Requirement already satisfied: importlib-metadata in c:\\users\\user\\anaconda3\\lib\\site-packages (from jsonschema>=3.0.1->flasgger) (3.7.3)\n",
      "Requirement already satisfied: typing-extensions>=3.6.4 in c:\\users\\user\\anaconda3\\lib\\site-packages (from importlib-metadata->jsonschema>=3.0.1->flasgger) (3.7.4.3)\n",
      "Requirement already satisfied: zipp>=0.5 in c:\\users\\user\\anaconda3\\lib\\site-packages (from importlib-metadata->jsonschema>=3.0.1->flasgger) (0.6.0)\n",
      "Requirement already satisfied: more-itertools in c:\\users\\user\\anaconda3\\lib\\site-packages (from zipp>=0.5->importlib-metadata->jsonschema>=3.0.1->flasgger) (7.2.0)\n"
     ]
    }
   ],
   "source": [
    "!pip install flasgger"
   ]
  },
  {
   "cell_type": "code",
   "execution_count": null,
   "metadata": {},
   "outputs": [
    {
     "name": "stdout",
     "output_type": "stream",
     "text": [
      " * Serving Flask app \"__main__\" (lazy loading)\n",
      " * Environment: production\n",
      "   WARNING: This is a development server. Do not use it in a production deployment.\n",
      "   Use a production WSGI server instead.\n",
      " * Debug mode: off\n"
     ]
    },
    {
     "name": "stderr",
     "output_type": "stream",
     "text": [
      " * Running on http://127.0.0.1:5000/ (Press CTRL+C to quit)\n",
      "127.0.0.1 - - [13/Jun/2021 00:03:20] \"\u001b[37mGET / HTTP/1.1\u001b[0m\" 200 -\n",
      "127.0.0.1 - - [13/Jun/2021 00:03:59] \"\u001b[33mGET /apidoc HTTP/1.1\u001b[0m\" 404 -\n",
      "127.0.0.1 - - [13/Jun/2021 00:05:02] \"\u001b[37mGET / HTTP/1.1\u001b[0m\" 200 -\n",
      "127.0.0.1 - - [13/Jun/2021 00:05:03] \"\u001b[33mGET /favicon.ico HTTP/1.1\u001b[0m\" 404 -\n",
      "127.0.0.1 - - [13/Jun/2021 00:05:12] \"\u001b[32mGET /apidocs HTTP/1.1\u001b[0m\" 308 -\n",
      "127.0.0.1 - - [13/Jun/2021 00:05:12] \"\u001b[37mGET /apidocs/ HTTP/1.1\u001b[0m\" 200 -\n",
      "127.0.0.1 - - [13/Jun/2021 00:05:12] \"\u001b[37mGET /flasgger_static/swagger-ui.css HTTP/1.1\u001b[0m\" 200 -\n",
      "127.0.0.1 - - [13/Jun/2021 00:05:12] \"\u001b[37mGET /flasgger_static/swagger-ui-bundle.js HTTP/1.1\u001b[0m\" 200 -\n",
      "127.0.0.1 - - [13/Jun/2021 00:05:12] \"\u001b[37mGET /flasgger_static/swagger-ui-standalone-preset.js HTTP/1.1\u001b[0m\" 200 -\n",
      "127.0.0.1 - - [13/Jun/2021 00:05:12] \"\u001b[37mGET /flasgger_static/lib/jquery.min.js HTTP/1.1\u001b[0m\" 200 -\n",
      "127.0.0.1 - - [13/Jun/2021 00:05:13] \"\u001b[37mGET /apispec_1.json HTTP/1.1\u001b[0m\" 200 -\n",
      "127.0.0.1 - - [13/Jun/2021 00:05:13] \"\u001b[37mGET /flasgger_static/favicon-32x32.png HTTP/1.1\u001b[0m\" 200 -\n",
      "127.0.0.1 - - [13/Jun/2021 00:05:44] \"\u001b[37mPOST /predict HTTP/1.1\u001b[0m\" 200 -\n"
     ]
    },
    {
     "name": "stdout",
     "output_type": "stream",
     "text": [
      "   age  sex  cp  trtbps  chol  fbs  restecg  thalachh  exng  oldpeak  slp  \\\n",
      "0   63    1   3     145   233    1        0       150     0      2.3    0   \n",
      "1   37    1   2     130   250    0        1       187     0      3.5    0   \n",
      "2   41    0   1     130   204    0        0       172     0      1.4    2   \n",
      "3   56    1   1     120   236    0        1       178     0      0.8    2   \n",
      "4   57    0   0     120   354    0        1       163     1      0.6    2   \n",
      "\n",
      "   caa  thall  \n",
      "0    0      1  \n",
      "1    0      2  \n",
      "2    0      2  \n",
      "3    0      2  \n",
      "4    0      2  \n"
     ]
    },
    {
     "name": "stderr",
     "output_type": "stream",
     "text": [
      "127.0.0.1 - - [13/Jun/2021 00:06:02] \"\u001b[32mGET /apidocs HTTP/1.1\u001b[0m\" 308 -\n",
      "127.0.0.1 - - [13/Jun/2021 00:06:02] \"\u001b[37mGET /apidocs/ HTTP/1.1\u001b[0m\" 200 -\n",
      "127.0.0.1 - - [13/Jun/2021 00:06:02] \"\u001b[37mGET /flasgger_static/swagger-ui-bundle.js HTTP/1.1\u001b[0m\" 200 -\n",
      "127.0.0.1 - - [13/Jun/2021 00:06:02] \"\u001b[37mGET /flasgger_static/swagger-ui-standalone-preset.js HTTP/1.1\u001b[0m\" 200 -\n",
      "127.0.0.1 - - [13/Jun/2021 00:06:02] \"\u001b[37mGET /flasgger_static/swagger-ui.css HTTP/1.1\u001b[0m\" 200 -\n",
      "127.0.0.1 - - [13/Jun/2021 00:06:02] \"\u001b[37mGET /flasgger_static/lib/jquery.min.js HTTP/1.1\u001b[0m\" 200 -\n",
      "127.0.0.1 - - [13/Jun/2021 00:06:02] \"\u001b[37mGET /apispec_1.json HTTP/1.1\u001b[0m\" 200 -\n",
      "127.0.0.1 - - [13/Jun/2021 00:06:02] \"\u001b[37mGET /flasgger_static/favicon-32x32.png HTTP/1.1\u001b[0m\" 200 -\n"
     ]
    }
   ],
   "source": [
    "from flask import Flask,request\n",
    "import numpy as np\n",
    "import pickle \n",
    "import pandas as pd\n",
    "from sklearn.ensemble import RandomForestClassifier\n",
    "import flasgger\n",
    "from flasgger import Swagger\n",
    "\n",
    "app = Flask(__name__)\n",
    "Swagger(app)\n",
    "\n",
    "pickle_in = open(\"classifier.pkl\",\"rb\")\n",
    "\n",
    "classifier=pickle.load(pickle_in)\n",
    "@app.route('/')\n",
    "def welcome():\n",
    "    return \"Welcome All\"\n",
    "\n",
    "@app.route('/predict',methods=[\"POST\"])\n",
    "def predict():\n",
    "    \"\"\"Let's Authenticate the Banks Note \n",
    "    This is using docstrings for specifications.\n",
    "    ---\n",
    "    parameters:\n",
    "      - name: file\n",
    "        in: formData\n",
    "        type: file\n",
    "        required: true\n",
    "      \n",
    "    responses:\n",
    "        200:\n",
    "            description: The output values\n",
    "        \n",
    "    \"\"\"\n",
    "    df_test = pd.read_csv(request.files.get('file'))\n",
    "    print(df_test.head())\n",
    "    prediction=classifier.predict(df_test)\n",
    "    \n",
    "    return str(list(prediction))\n",
    "\n",
    "if __name__=='__main__':\n",
    "    app.run()"
   ]
  },
  {
   "cell_type": "code",
   "execution_count": null,
   "metadata": {},
   "outputs": [],
   "source": []
  }
 ],
 "metadata": {
  "kernelspec": {
   "display_name": "Python 3",
   "language": "python",
   "name": "python3"
  },
  "language_info": {
   "codemirror_mode": {
    "name": "ipython",
    "version": 3
   },
   "file_extension": ".py",
   "mimetype": "text/x-python",
   "name": "python",
   "nbconvert_exporter": "python",
   "pygments_lexer": "ipython3",
   "version": "3.7.4"
  }
 },
 "nbformat": 4,
 "nbformat_minor": 2
}
